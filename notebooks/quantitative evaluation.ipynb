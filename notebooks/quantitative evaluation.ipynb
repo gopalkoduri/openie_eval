{
 "metadata": {
  "name": ""
 },
 "nbformat": 3,
 "nbformat_minor": 0,
 "worksheets": [
  {
   "cells": [
    {
     "cell_type": "code",
     "collapsed": false,
     "input": [
      "from __future__ import division\n",
      "import codecs\n",
      "import pickle\n",
      "import networkx as nx\n",
      "from collections import Counter\n",
      "from scipy.stats import kurtosis, skew, variation\n",
      "\n",
      "rcParams['figure.figsize'] = (12.0, 10.0)\n",
      "rcParams['font.family'] = 'Times New Roman'\n",
      "%pylab tk\n",
      "\n",
      "from os.path import expanduser\n",
      "home = expanduser(\"~\")\n",
      "\n",
      "import sys\n",
      "sys.path.append(home + '/workspace')"
     ],
     "language": "python",
     "metadata": {},
     "outputs": [
      {
       "output_type": "stream",
       "stream": "stdout",
       "text": [
        "Populating the interactive namespace from numpy and matplotlib\n"
       ]
      },
      {
       "output_type": "stream",
       "stream": "stderr",
       "text": [
        "WARNING: pylab import has clobbered these variables: ['colors']\n",
        "`%pylab --no-import-all` prevents importing * from pylab and numpy\n"
       ]
      }
     ],
     "prompt_number": 9
    },
    {
     "cell_type": "code",
     "collapsed": false,
     "input": [
      "from vichakshana.vichakshana import progressbar\n",
      "from nerpari.nerpari import semantic_parsing as sp\n",
      "from nerpari.nerpari import ontologization\n",
      "reload(sp)\n",
      "reload(ontologization)\n",
      "\n",
      "from nltk.stem import WordNetLemmatizer\n",
      "lemmatizer = WordNetLemmatizer()"
     ],
     "language": "python",
     "metadata": {},
     "outputs": [],
     "prompt_number": 3
    },
    {
     "cell_type": "code",
     "collapsed": false,
     "input": [
      "#keyword = 'carnatic_music'\n",
      "keyword = 'hindustani_music'\n",
      "\n",
      "#coref_suffix = ''\n",
      "coref_suffix = '-coref'\n",
      "\n",
      "filtered_suffix = ''\n",
      "#filtered_suffix = '-filtered'"
     ],
     "language": "python",
     "metadata": {},
     "outputs": [],
     "prompt_number": 99
    },
    {
     "cell_type": "code",
     "collapsed": false,
     "input": [
      "methods = ['reverb', 'openie', 'semantic-parsing']\n",
      "labels = ['ReVerb', 'OpenIE 4.0', 'Sem. Parsing']\n",
      "colors = ['#990033', '#006600', '#330066']"
     ],
     "language": "python",
     "metadata": {},
     "outputs": [],
     "prompt_number": 79
    },
    {
     "cell_type": "code",
     "collapsed": false,
     "input": [
      "x = arange(0, 100, 1)\n",
      "for i in xrange(len(colors)):\n",
      "    y = (i+1)*x\n",
      "    plot(x, y, color=colors[i])"
     ],
     "language": "python",
     "metadata": {},
     "outputs": [],
     "prompt_number": 21
    },
    {
     "cell_type": "heading",
     "level": 1,
     "metadata": {},
     "source": [
      "Extractions per sentence"
     ]
    },
    {
     "cell_type": "code",
     "collapsed": false,
     "input": [
      "def get_sentence_relations(relations):\n",
      "    sentence_relations = {}\n",
      "    for rel in relations:\n",
      "        if rel['full_sentence'] in sentence_relations.keys():\n",
      "            sentence_relations[rel['full_sentence']].append(rel['arg1'] + rel['rel'] + rel['arg2'])\n",
      "        else:\n",
      "            sentence_relations[rel['full_sentence']] = [rel['arg1'] + rel['rel'] + rel['arg2']]\n",
      "    return sentence_relations"
     ],
     "language": "python",
     "metadata": {},
     "outputs": [],
     "prompt_number": 6
    },
    {
     "cell_type": "code",
     "collapsed": false,
     "input": [
      "figure()\n",
      "for count in xrange(len(methods)):\n",
      "    method = methods[count]\n",
      "    input_file = home+'/workspace/nerpari/data/'+method+'/' + keyword + '/relations'+coref_suffix+'.pickle'\n",
      "    relations = pickle.load(file(input_file))\n",
      "    sentence_relations = get_sentence_relations(relations)\n",
      "    n_extractions = [len(v) for v in sentence_relations.values()]\n",
      "    \n",
      "    x = arange(1, 30, 1)\n",
      "    y = [sum(n_extractions >= i) for i in x]\n",
      "    log_y = log10(y)\n",
      "    log_y[isinf(log_y)] = 0\n",
      "\n",
      "#     n_uniq_extractions = [len(set(v)) for v in sentence_relations.values()]\n",
      "#     uniq_y = [sum(n_extractions >= i) for i in x]\n",
      "#     log_uniq_y = log10(uniq_y)\n",
      "#     log_uniq_y[isinf(log_uniq_y)] = 0\n",
      "    \n",
      "    plot(x, log_y, '-', color=colors[count], marker='.', label=labels[count], linewidth=2.5)\n",
      "#     plot(x, log_uniq_y, '--', color=colors[count], marker='.', label=labels[count])\n",
      "    hold(True)\n",
      "    \n",
      "    _mean = mean(n_extractions)\n",
      "    _variance = variation(n_extractions)\n",
      "    \n",
      "    print method, _mean, _variance\n",
      "legend()\n",
      "grid()"
     ],
     "language": "python",
     "metadata": {},
     "outputs": [
      {
       "output_type": "stream",
       "stream": "stdout",
       "text": [
        "reverb 1.39849410428 0.995210654064\n",
        "openie"
       ]
      },
      {
       "output_type": "stream",
       "stream": "stdout",
       "text": [
        " 1.86845052894 0.820443923822\n",
        "semantic-parsing"
       ]
      },
      {
       "output_type": "stream",
       "stream": "stdout",
       "text": [
        " 2.92549794739 1.00010647944\n"
       ]
      }
     ],
     "prompt_number": 91
    },
    {
     "cell_type": "code",
     "collapsed": false,
     "input": [
      "fontsize=32\n",
      "xlabel('Min. no. of extractions', fontsize=fontsize+2)\n",
      "ylabel('Log. count of sentences', fontsize=fontsize+2)\n",
      "xlim(1, 15)\n",
      "ylim(0.69, 3.95)\n",
      "legend(loc=1, prop={'size': fontsize})\n",
      "\n",
      "xticks(fontsize=fontsize)\n",
      "yticks(fontsize=fontsize)"
     ],
     "language": "python",
     "metadata": {},
     "outputs": [
      {
       "metadata": {},
       "output_type": "pyout",
       "prompt_number": 92,
       "text": [
        "(array([ 0.5,  1. ,  1.5,  2. ,  2.5,  3. ,  3.5,  4. ]),\n",
        " <a list of 8 Text yticklabel objects>)"
       ]
      }
     ],
     "prompt_number": 92
    },
    {
     "cell_type": "code",
     "collapsed": false,
     "input": [
      "fname = home+'/workspace/nerpari/data/results/quantitative/'+keyword+'/extrations-per-sentence'\n",
      "savefig(fname+'.pdf', dpi=200, facecolor='w', edgecolor='w', orientation='landscape', \n",
      "        papertype=None, format=None, transparent=False, bbox_inches='tight', pad_inches=0.1)\n",
      "savefig(fname+'.png', dpi=200, facecolor='w', edgecolor='w', orientation='landscape', \n",
      "        papertype=None, format=None, transparent=False, bbox_inches='tight', pad_inches=0.1)"
     ],
     "language": "python",
     "metadata": {},
     "outputs": [],
     "prompt_number": 93
    },
    {
     "cell_type": "heading",
     "level": 1,
     "metadata": {},
     "source": [
      "Extractions per argument"
     ]
    },
    {
     "cell_type": "code",
     "collapsed": false,
     "input": [
      "from collections import Counter"
     ],
     "language": "python",
     "metadata": {},
     "outputs": [],
     "prompt_number": 45
    },
    {
     "cell_type": "code",
     "collapsed": false,
     "input": [
      "def get_uniq_relations(relations):\n",
      "    uniq_relations = []\n",
      "    uniq_relphrases = []\n",
      "    for rel in relations:\n",
      "        relation = [rel['arg1'], rel['rel'], rel['arg2']]\n",
      "        relphrase = \" \".join(relation)\n",
      "        if relphrase not in uniq_relphrases:\n",
      "            uniq_relphrases.append(relphrase)\n",
      "            uniq_relations.append(relation)\n",
      "    return uniq_relations"
     ],
     "language": "python",
     "metadata": {},
     "outputs": [],
     "prompt_number": 46
    },
    {
     "cell_type": "code",
     "collapsed": false,
     "input": [
      "fig = figure()\n",
      "ax = fig.add_subplot(1,1,1)\n",
      "\n",
      "for count in xrange(len(methods)):\n",
      "    method = methods[count]\n",
      "    \n",
      "    input_file = home+'/workspace/nerpari/data/'+method+'/' + keyword + '/relations'+coref_suffix+'.pickle'\n",
      "    \n",
      "    #all relations\n",
      "    relations = pickle.load(file(input_file))\n",
      "    arguments = [rel['arg1'] for rel in relations]\n",
      "    counter = Counter(arguments)\n",
      "    n_extractions = array(counter.values())\n",
      "\n",
      "    x = concatenate((arange(0, 100, 20), arange(100, 1501, 50)))\n",
      "    y = [sum(n_extractions >= i) for i in x]\n",
      "    \n",
      "    log_y = log10(y)\n",
      "    log_y[isinf(log_y)] = 0\n",
      "    #log_y = log_y/max(log_y)\n",
      "    \n",
      "    plot(x, log_y, '-', color=colors[count], marker='.', label=labels[count], linewidth=2.5)\n",
      "    \n",
      "    _mean = mean(n_extractions)\n",
      "    _variance = variation(n_extractions)\n",
      "    \n",
      "    print method, _mean, _variance\n",
      "    print y\n",
      "    \n",
      "    #uniq relations\n",
      "    relations = get_uniq_relations(relations)\n",
      "    arguments = [rel[0] for rel in relations]\n",
      "    counter = Counter(arguments)\n",
      "    n_extractions = array(counter.values())\n",
      "\n",
      "    x = concatenate((arange(0, 100, 20), arange(100, 1501, 50)))\n",
      "    x[0] = 1\n",
      "    y = [sum(n_extractions >= i) for i in x]\n",
      "    \n",
      "    log_y = log10(y)\n",
      "    log_y[isinf(log_y)] = 0\n",
      "    #log_y = log_y/max(log_y)\n",
      "    \n",
      "    plot(x, log_y, '--', color=colors[count], marker='.', linewidth=2.5)\n",
      "    \n",
      "    _mean = mean(n_extractions)\n",
      "    _variance = variation(n_extractions)\n",
      "    \n",
      "    print method, _mean, _variance\n",
      "    print y\n",
      "    \n",
      "grid()"
     ],
     "language": "python",
     "metadata": {},
     "outputs": [
      {
       "output_type": "stream",
       "stream": "stdout",
       "text": [
        "reverb 2.11394557823 6.88255427353\n",
        "[4704, 15, 7, 6, 4, 4, 2, 2, 2, 1, 1, 1, 1, 1, 1, 1, 1, 1, 1, 1, 1, 1, 0, 0, 0, 0, 0, 0, 0, 0, 0, 0, 0, 0]\n",
        "reverb"
       ]
      },
      {
       "output_type": "stream",
       "stream": "stdout",
       "text": [
        " 2.09659574468 6.86955280391\n",
        "[4700, 15, 7, 6, 4, 4, 2, 2, 1, 1, 1, 1, 1, 1, 1, 1, 1, 1, 1, 1, 1, 1, 0, 0, 0, 0, 0, 0, 0, 0, 0, 0, 0, 0]\n",
        "openie"
       ]
      },
      {
       "output_type": "stream",
       "stream": "stdout",
       "text": [
        " 2.92437442076 7.21100737956\n",
        "[5395, 48, 17, 11, 7, 5, 3, 3, 2, 2, 1, 1, 1, 1, 1, 1, 1, 1, 1, 1, 1, 1, 1, 1, 1, 1, 1, 1, 1, 1, 1, 1, 1, 0]\n",
        "openie"
       ]
      },
      {
       "output_type": "stream",
       "stream": "stdout",
       "text": [
        " 2.83058387396 7.20425815143\n",
        "[5395, 47, 17, 11, 7, 5, 3, 3, 2, 2, 1, 1, 1, 1, 1, 1, 1, 1, 1, 1, 1, 1, 1, 1, 1, 1, 1, 1, 1, 1, 1, 1, 0, 0]\n",
        "semantic-parsing"
       ]
      },
      {
       "output_type": "stream",
       "stream": "stdout",
       "text": [
        " 3.37456668491 4.9217739441\n",
        "[5481, 74, 24, 16, 13, 10, 5, 2, 2, 1, 1, 1, 1, 1, 1, 1, 1, 1, 1, 1, 1, 1, 1, 1, 1, 0, 0, 0, 0, 0, 0, 0, 0, 0]\n",
        "semantic-parsing"
       ]
      },
      {
       "output_type": "stream",
       "stream": "stdout",
       "text": [
        " 3.22386425835 4.69510165815\n",
        "[5481, 68, 23, 14, 10, 7, 4, 2, 2, 1, 1, 1, 1, 1, 1, 1, 1, 1, 1, 1, 1, 1, 1, 0, 0, 0, 0, 0, 0, 0, 0, 0, 0, 0]\n"
       ]
      }
     ],
     "prompt_number": 100
    },
    {
     "cell_type": "code",
     "collapsed": false,
     "input": [
      "fontsize=32\n",
      "xlim(1, 350)\n",
      "xlabel('Min. no. of extractions', fontsize=fontsize+2)\n",
      "ylabel('Log. count of entities', fontsize=fontsize+2)\n",
      "\n",
      "#Get artists and labels for legend\n",
      "handles, _labels = ax.get_legend_handles_labels()\n",
      "\n",
      "#Create custom artists\n",
      "custom_artists = []\n",
      "custom_artists.append(plt.Line2D((0,1),(0,0), color='k', linestyle='-'))\n",
      "custom_artists.append(plt.Line2D((0,1),(0,0), color='k', linestyle='--'))\n",
      "\n",
      "ax.legend(handles+custom_artists,\n",
      "          _labels + ['All', 'Unique'],\n",
      "          loc='upper right', prop={'size': fontsize})\n",
      "\n",
      "xticks(fontsize=fontsize)\n",
      "yticks(fontsize=fontsize)"
     ],
     "language": "python",
     "metadata": {},
     "outputs": [
      {
       "metadata": {},
       "output_type": "pyout",
       "prompt_number": 103,
       "text": [
        "(array([ 0. ,  0.2,  0.4,  0.6,  0.8,  1. ]),\n",
        " <a list of 6 Text yticklabel objects>)"
       ]
      }
     ],
     "prompt_number": 103
    },
    {
     "cell_type": "code",
     "collapsed": false,
     "input": [
      "fname = home+'/workspace/nerpari/data/results/quantitative/'+keyword+'/extrations-per-argument'\n",
      "\n",
      "savefig(fname+'.pdf', dpi=200, facecolor='w', edgecolor='w', orientation='landscape', \n",
      "        papertype=None, format=None, transparent=False, bbox_inches='tight', pad_inches=0.1)\n",
      "savefig(fname+'.png', dpi=200, facecolor='w', edgecolor='w', orientation='landscape', \n",
      "        papertype=None, format=None, transparent=False, bbox_inches='tight', pad_inches=0.1)"
     ],
     "language": "python",
     "metadata": {},
     "outputs": [],
     "prompt_number": 102
    },
    {
     "cell_type": "heading",
     "level": 1,
     "metadata": {},
     "source": [
      "Extractions per relation-type"
     ]
    },
    {
     "cell_type": "code",
     "collapsed": false,
     "input": [
      "fig = figure()\n",
      "ax = fig.add_subplot(1,1,1)\n",
      "\n",
      "for count in xrange(len(methods)):\n",
      "    method = methods[count]\n",
      "    label = labels[count]\n",
      "    \n",
      "    input_file = home+'/workspace/nerpari/data/'+method+'/' + keyword + '/relations'+coref_suffix+'.pickle'\n",
      "    relations = pickle.load(file(input_file))\n",
      "    relation_types = [lemmatizer.lemmatize(rel['rel'], pos='v') for rel in relations]    \n",
      "    counter = Counter(relation_types)\n",
      "    n_extractions = array(counter.values())\n",
      "\n",
      "    x = concatenate((arange(0, 100, 20), arange(100, 1201, 50)))\n",
      "    y = [sum(n_extractions >= i) for i in x]\n",
      "    \n",
      "    log_y = log10(y)\n",
      "    log_y[isinf(log_y)] = 0\n",
      "    #log_y = log_y/max(log_y)\n",
      "    \n",
      "    plot(x, log_y, '-', color=colors[count], marker='.', label=labels[count], linewidth=2.5)\n",
      "    \n",
      "    _mean = mean(n_extractions)\n",
      "    _variance = variation(n_extractions)\n",
      "    \n",
      "    print method, _mean, _variance\n",
      "    \n",
      "    relations = get_uniq_relations(relations)\n",
      "    relation_types = [lemmatizer.lemmatize(rel[1], pos='v') for rel in relations]\n",
      "    counter = Counter(relation_types)\n",
      "    n_extractions = array(counter.values())\n",
      "\n",
      "    x = concatenate((arange(0, 100, 20), arange(100, 1201, 50)))\n",
      "    y = [sum(n_extractions >= i) for i in x]\n",
      "    \n",
      "    log_y = log10(y)\n",
      "    log_y[isinf(log_y)] = 0\n",
      "    #log_y = log_y/max(log_y)\n",
      "    \n",
      "    plot(x, log_y, '--', color=colors[count], marker='.', linewidth=2.5)\n",
      "    \n",
      "    _mean = mean(n_extractions)\n",
      "    _variance = variation(n_extractions)\n",
      "    \n",
      "    print method, _mean, _variance\n",
      "\n",
      "grid()"
     ],
     "language": "python",
     "metadata": {},
     "outputs": [
      {
       "output_type": "stream",
       "stream": "stdout",
       "text": [
        "reverb 2.4902605616 13.3124349343\n",
        "reverb"
       ]
      },
      {
       "output_type": "stream",
       "stream": "stdout",
       "text": [
        " 2.37158054711 12.9653368873\n",
        "openie"
       ]
      },
      {
       "output_type": "stream",
       "stream": "stdout",
       "text": [
        " 4.88545395379 12.0238607655\n",
        "openie"
       ]
      },
      {
       "output_type": "stream",
       "stream": "stdout",
       "text": [
        " 4.87855387855 11.5733633078\n",
        "semantic-parsing"
       ]
      },
      {
       "output_type": "stream",
       "stream": "stdout",
       "text": [
        " 4.62746512747 13.1516310127\n",
        "semantic-parsing"
       ]
      },
      {
       "output_type": "stream",
       "stream": "stdout",
       "text": [
        " 4.0113035113 12.3281549697\n"
       ]
      }
     ],
     "prompt_number": 88
    },
    {
     "cell_type": "code",
     "collapsed": false,
     "input": [
      "fontsize=32\n",
      "xlim(1, 500)\n",
      "xlabel('Min. no. of extractions', fontsize=fontsize+2)\n",
      "ylabel('Log. count of relation types', fontsize=fontsize+2)\n",
      "\n",
      "#Get artists and labels for legend\n",
      "handles, _labels = ax.get_legend_handles_labels()\n",
      "\n",
      "#Create custom artists\n",
      "custom_artists = []\n",
      "custom_artists.append(plt.Line2D((0,1),(0,0), color='k', linestyle='-'))\n",
      "custom_artists.append(plt.Line2D((0,1),(0,0), color='k', linestyle='--'))\n",
      "\n",
      "ax.legend(handles+custom_artists,\n",
      "          _labels + ['All', 'Unique'],\n",
      "          loc='upper right', prop={'size': fontsize})\n",
      "\n",
      "xticks(fontsize=fontsize)\n",
      "yticks(fontsize=fontsize)"
     ],
     "language": "python",
     "metadata": {},
     "outputs": [
      {
       "metadata": {},
       "output_type": "pyout",
       "prompt_number": 89,
       "text": [
        "(array([ 0. ,  0.5,  1. ,  1.5,  2. ,  2.5,  3. ,  3.5,  4. ]),\n",
        " <a list of 9 Text yticklabel objects>)"
       ]
      }
     ],
     "prompt_number": 89
    },
    {
     "cell_type": "code",
     "collapsed": false,
     "input": [
      "fname = home+'/workspace/nerpari/data/results/quantitative/'+keyword+'/extrations-per-reltype'\n",
      "\n",
      "savefig(fname+'.pdf', dpi=200, facecolor='w', edgecolor='w', orientation='landscape', \n",
      "        papertype=None, format=None, transparent=False, bbox_inches='tight', pad_inches=0.1)\n",
      "savefig(fname+'.png', dpi=200, facecolor='w', edgecolor='w', orientation='landscape', \n",
      "        papertype=None, format=None, transparent=False, bbox_inches='tight', pad_inches=0.1)"
     ],
     "language": "python",
     "metadata": {},
     "outputs": [],
     "prompt_number": 90
    },
    {
     "cell_type": "heading",
     "level": 1,
     "metadata": {},
     "source": [
      "Subsumption relations"
     ]
    },
    {
     "cell_type": "markdown",
     "metadata": {},
     "source": [
      "* Unique instances per subsumption type\n"
     ]
    },
    {
     "cell_type": "code",
     "collapsed": false,
     "input": [
      "fig = figure()\n",
      "ax = fig.add_subplot(1,1,1)\n",
      "\n",
      "for count in xrange(len(methods)):\n",
      "    method = methods[count]\n",
      "    \n",
      "    input_file = home+'/workspace/nerpari/data/'+method+'/' + keyword + '/relations'+coref_suffix+'.pickle'\n",
      "    \n",
      "    #all relations\n",
      "    relations = pickle.load(file(input_file))\n",
      "    classes = []\n",
      "    for r in relations:\n",
      "        if lemmatizer.lemmatize(r['rel'], pos='v') == 'is a' or lemmatizer.lemmatize(r['rel'], pos='v') == 'be':\n",
      "            classes.append(r['arg2'])\n",
      "    counter = Counter(classes)\n",
      "    n_extractions = array(counter.values())\n",
      "\n",
      "    x = concatenate((arange(0, 100, 20), arange(100, 501, 50)))\n",
      "    y = [sum(n_extractions >= i) for i in x]\n",
      "    \n",
      "    log_y = log10(y)\n",
      "    log_y[isinf(log_y)] = 0\n",
      "    #log_y = log_y/max(log_y)\n",
      "    \n",
      "    plot(x, log_y, '-', color=colors[count], marker='.', label=labels[count], linewidth=2.5)\n",
      "    \n",
      "    _mean = mean(n_extractions)\n",
      "    _variance = variation(n_extractions)\n",
      "    \n",
      "    print method, _mean, _variance\n",
      "    print y\n",
      "    \n",
      "    #uniq relations\n",
      "    relations = get_uniq_relations(relations)\n",
      "    classes = []\n",
      "    for r in relations:\n",
      "        if lemmatizer.lemmatize(r[1], pos='v') == 'is a' or lemmatizer.lemmatize(r[1], pos='v') == 'be':\n",
      "            classes.append(r[2])\n",
      "    counter = Counter(classes)\n",
      "    n_extractions = array(counter.values())\n",
      "\n",
      "    x = concatenate((arange(0, 100, 20), arange(100, 501, 50)))\n",
      "    x[0] = 1\n",
      "    y = [sum(n_extractions >= i) for i in x]\n",
      "    \n",
      "    log_y = log10(y)\n",
      "    log_y[isinf(log_y)] = 0\n",
      "    #log_y = log_y/max(log_y)\n",
      "    \n",
      "    plot(x, log_y, '--', color=colors[count], marker='.', linewidth=2.5)\n",
      "    \n",
      "    _mean = mean(n_extractions)\n",
      "    _variance = variation(n_extractions)\n",
      "    \n",
      "    print method, _mean, _variance\n",
      "    print y\n",
      "    \n",
      "grid()"
     ],
     "language": "python",
     "metadata": {},
     "outputs": [
      {
       "output_type": "stream",
       "stream": "stdout",
       "text": [
        "reverb 1.33550913838 2.45983959298\n",
        "[1532, 4, 3, 1, 1, 0, 0, 0, 0, 0, 0, 0, 0, 0]\n",
        "reverb"
       ]
      },
      {
       "output_type": "stream",
       "stream": "stdout",
       "text": [
        " 1.23825065274 2.16145048834\n",
        "[1532, 4, 1, 1, 1, 0, 0, 0, 0, 0, 0, 0, 0, 0]\n",
        "openie"
       ]
      },
      {
       "output_type": "stream",
       "stream": "stdout",
       "text": [
        " 1.24832479306 2.58293202399\n",
        "[2537, 3, 3, 2, 2, 1, 0, 0, 0, 0, 0, 0, 0, 0]\n",
        "openie"
       ]
      },
      {
       "output_type": "stream",
       "stream": "stdout",
       "text": [
        " 1.15530153725 1.82116786423\n",
        "[2537, 3, 1, 1, 1, 0, 0, 0, 0, 0, 0, 0, 0, 0]\n",
        "semantic-parsing"
       ]
      },
      {
       "output_type": "stream",
       "stream": "stdout",
       "text": [
        " 2.75442321302 3.980108853\n",
        "[1413, 28, 13, 7, 1, 1, 1, 1, 1, 1, 0, 0, 0, 0]\n",
        "semantic-parsing"
       ]
      },
      {
       "output_type": "stream",
       "stream": "stdout",
       "text": [
        " 2.25265392781 2.4875584621\n",
        "[1413, 22, 7, 3, 1, 1, 0, 0, 0, 0, 0, 0, 0, 0]\n"
       ]
      }
     ],
     "prompt_number": 63
    },
    {
     "cell_type": "code",
     "collapsed": false,
     "input": [
      "fontsize=32\n",
      "xlim(1, 100)\n",
      "xlabel('Min. no. of extractions', fontsize=fontsize+2)\n",
      "ylabel('Log. count of concepts', fontsize=fontsize+2)\n",
      "\n",
      "#Get artists and labels for legend\n",
      "handles, _labels = ax.get_legend_handles_labels()\n",
      "\n",
      "#Create custom artists\n",
      "custom_artists = []\n",
      "custom_artists.append(plt.Line2D((0,1),(0,0), color='k', linestyle='-'))\n",
      "custom_artists.append(plt.Line2D((0,1),(0,0), color='k', linestyle='--'))\n",
      "\n",
      "ax.legend(handles+custom_artists,\n",
      "          _labels + ['All', 'Unique'],\n",
      "          loc='upper right', prop={'size': fontsize})\n",
      "\n",
      "xticks(fontsize=fontsize)\n",
      "yticks(fontsize=fontsize)"
     ],
     "language": "python",
     "metadata": {},
     "outputs": [
      {
       "metadata": {},
       "output_type": "pyout",
       "prompt_number": 64,
       "text": [
        "(array([ 0. ,  0.5,  1. ,  1.5,  2. ,  2.5,  3. ,  3.5]),\n",
        " <a list of 8 Text yticklabel objects>)"
       ]
      }
     ],
     "prompt_number": 64
    },
    {
     "cell_type": "code",
     "collapsed": false,
     "input": [
      "fname = home+'/workspace/nerpari/data/results/quantitative/'+keyword+'/extrations-per-class'\n",
      "\n",
      "savefig(fname+'.pdf', dpi=200, facecolor='w', edgecolor='w', orientation='landscape', \n",
      "        papertype=None, format=None, transparent=False, bbox_inches='tight', pad_inches=0.1)\n",
      "savefig(fname+'.png', dpi=200, facecolor='w', edgecolor='w', orientation='landscape', \n",
      "        papertype=None, format=None, transparent=False, bbox_inches='tight', pad_inches=0.1)"
     ],
     "language": "python",
     "metadata": {},
     "outputs": [],
     "prompt_number": 65
    },
    {
     "cell_type": "code",
     "collapsed": false,
     "input": [],
     "language": "python",
     "metadata": {},
     "outputs": []
    }
   ],
   "metadata": {}
  }
 ]
}