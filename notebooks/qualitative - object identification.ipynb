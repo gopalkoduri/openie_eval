{
 "metadata": {
  "name": ""
 },
 "nbformat": 3,
 "nbformat_minor": 0,
 "worksheets": [
  {
   "cells": [
    {
     "cell_type": "code",
     "collapsed": false,
     "input": [
      "from __future__ import division\n",
      "import codecs\n",
      "import pickle\n",
      "import networkx as nx\n",
      "from collections import Counter\n",
      "\n",
      "%pylab tk\n",
      "rcParams['figure.figsize'] = (12.0, 10.0)\n",
      "rcParams['font.family'] = 'Times New Roman'\n",
      "\n",
      "from os.path import expanduser\n",
      "home = expanduser(\"~\")\n",
      "\n",
      "import sys\n",
      "sys.path.append(home + '/workspace')"
     ],
     "language": "python",
     "metadata": {},
     "outputs": []
    },
    {
     "cell_type": "code",
     "collapsed": false,
     "input": [
      "from vichakshana.vichakshana import progressbar\n",
      "from nerpari.nerpari import semantic_parsing as sp\n",
      "from nerpari.nerpari import ontologization\n",
      "reload(sp)\n",
      "reload(ontologization)\n",
      "\n",
      "from wiki_tools.wiki_grapher import ochiai_coefficient"
     ],
     "language": "python",
     "metadata": {},
     "outputs": []
    },
    {
     "cell_type": "code",
     "collapsed": false,
     "input": [
      "from nltk.stem import WordNetLemmatizer\n",
      "lemmatizer = WordNetLemmatizer()"
     ],
     "language": "python",
     "metadata": {},
     "outputs": []
    },
    {
     "cell_type": "code",
     "collapsed": false,
     "input": [
      "keyword = 'carnatic_music'\n",
      "\n",
      "wiki_entities = codecs.open(home + '/workspace/nerpari/data/ground-truth/'+keyword+'_pages.txt', encoding='utf-8').readlines()\n",
      "wiki_entities = [i.strip().lower() for i in wiki_entities]\n",
      "\n",
      "methods = ['reverb', 'openie', 'semantic-parsing']\n",
      "labels = {'reverb': 'ReVerb', 'openie': 'OpenIE 4.0', 'semantic-parsing': 'Sem. Parsing'}\n",
      "colors = ['#990033', '#006600', '#330066']\n",
      "\n",
      "#coref_suffix = ''\n",
      "coref_suffix = '-coref'\n",
      "\n",
      "#filtered_suffix = ''\n",
      "filtered_suffix = '-filtered'"
     ],
     "language": "python",
     "metadata": {},
     "outputs": []
    },
    {
     "cell_type": "heading",
     "level": 1,
     "metadata": {},
     "source": [
      "Entity identification"
     ]
    },
    {
     "cell_type": "code",
     "collapsed": false,
     "input": [
      "print len(wiki_entities)\n",
      "for method in methods:\n",
      "    relations = pickle.load(file(home+'/workspace/nerpari/data/'+method+'/'+keyword+'/relations'+coref_suffix+filtered_suffix+'.pickle'))\n",
      "    relations = [[i['arg1'].lower(), lemmatizer.lemmatize(i['rel'].lower(), pos='v'), i['arg2'].lower()] for i in relations]\n",
      "    candidate_entities = [i[0] for i in relations]\n",
      "    overlap = set(candidate_entities).intersection(wiki_entities)\n",
      "    residual = set(candidate_entities)-set(wiki_entities)\n",
      "    print method, len(overlap), len(residual), round(len(overlap)/len(wiki_entities), 2), round(len(residual)/len(set(candidate_entities)), 2)"
     ],
     "language": "python",
     "metadata": {},
     "outputs": []
    },
    {
     "cell_type": "heading",
     "level": 1,
     "metadata": {},
     "source": [
      "Rule-based"
     ]
    },
    {
     "cell_type": "heading",
     "level": 2,
     "metadata": {},
     "source": [
      "Create rules"
     ]
    },
    {
     "cell_type": "code",
     "collapsed": false,
     "input": [
      "#carnatic\n",
      "class_terms = {}\n",
      "class_terms['carnatic_ragas'] = ['raga', 'raaga', 'scale']\n",
      "class_terms['carnatic_singers'] = ['vocalist', 'singer']\n",
      "class_terms['carnatic_composers'] = ['composer', 'poet']\n",
      "class_terms['carnatic_instrumentalists'] = ['instrumentalist', 'player', 'violonist']\n",
      "class_terms['carnatic_compositions'] = ['composition', 'song']\n",
      "class_terms['carnatic_musicians'] = list(concatenate([class_terms[i] for i in ['carnatic_singers', 'carnatic_composers', 'carnatic_instrumentalists']]))\n",
      "class_terms['carnatic_musicians'].append('artist')\n",
      "\n",
      "out_file = home + '/workspace/nerpari/data/results/qualitative/entity-identification/rule-based/carnatic_music/rules.pickle'\n",
      "pickle.dump(class_terms, file(out_file, 'w'))"
     ],
     "language": "python",
     "metadata": {},
     "outputs": []
    },
    {
     "cell_type": "code",
     "collapsed": false,
     "input": [
      "#hindustani\n",
      "class_terms = {}\n",
      "class_terms['hindustani_ragas'] = ['raga', 'raaga', 'raag', 'rag', 'scale', u'r\u0101ga']\n",
      "class_terms['hindustani_singers'] = ['vocalist', 'singer']\n",
      "class_terms['hindustani_composers'] = ['composer', 'poet']\n",
      "class_terms['hindustani_instrumentalists'] = ['instrumentalist', 'player', 'violonist']\n",
      "#class_terms['carnatic_compositions'] = ['composition', 'song']\n",
      "class_terms['hindustani_musicians'] = list(concatenate([class_terms[i] for i in ['hindustani_singers', 'hindustani_composers', 'hindustani_instrumentalists']]))\n",
      "class_terms['hindustani_musicians'].append('artist')\n",
      "\n",
      "out_file = home + '/workspace/nerpari/data/results/qualitative/entity-identification/rule-based/hindustani_music/rules.pickle'\n",
      "pickle.dump(class_terms, file(out_file, 'w'))"
     ],
     "language": "python",
     "metadata": {},
     "outputs": []
    },
    {
     "cell_type": "heading",
     "level": 2,
     "metadata": {},
     "source": [
      "Class assignment"
     ]
    },
    {
     "cell_type": "code",
     "collapsed": false,
     "input": [
      "keyword = 'hindustani_music'\n",
      "\n",
      "coverage = {}\n",
      "labelled_class_instances = {}\n",
      "\n",
      "rules = pickle.load(file(home + '/workspace/nerpari/data/results/qualitative/entity-identification/rule-based/'+keyword+'/rules.pickle'))\n",
      "groundtruth = ontologization.load_groundtruth(keyword, rules.keys())\n",
      "class_terms = pickle.load(file(home + '/workspace/nerpari/data/results/qualitative/entity-identification/rule-based/'+keyword+'/rules.pickle'))\n",
      "\n",
      "for method in methods:\n",
      "    relations = pickle.load(file(home+'/workspace/nerpari/data/'+method+'/'+keyword+'/relations'+coref_suffix+filtered_suffix+'.pickle'))\n",
      "    relations = [[i['arg1'].lower(), lemmatizer.lemmatize(i['rel'].lower(), pos='v'), i['arg2'].lower()] for i in relations]\n",
      "    \n",
      "    class_instances = ontologization.class_instances_by_rules(relations, rules)\n",
      "    res = ontologization.analyze_coverage(class_instances, groundtruth)\n",
      "    coverage[method] = res['coverage']\n",
      "    labelled_class_instances[method] = res['labelled_class_instances']"
     ],
     "language": "python",
     "metadata": {},
     "outputs": []
    },
    {
     "cell_type": "code",
     "collapsed": false,
     "input": [
      "def label_numbers(rects, numbers):\n",
      "    # attach some text labels\n",
      "    for i in xrange(len(rects)):\n",
      "        rect = rects[i]\n",
      "        text_label = str(numbers[i])\n",
      "        if text_label == '0':\n",
      "            continue\n",
      "        height = rect.get_height()\n",
      "        ax.text(rect.get_x()+rect.get_width()/2., height-0.03, '%s'%(text_label),\n",
      "                fontsize=22, ha='center', va='bottom', color='w')"
     ],
     "language": "python",
     "metadata": {},
     "outputs": []
    },
    {
     "cell_type": "code",
     "collapsed": false,
     "input": [
      "rcParams['figure.figsize'] = (12.0, 10.0)\n",
      "\n",
      "fig, ax = plt.subplots()\n",
      "\n",
      "bar_width = 0.2\n",
      "index = arange(len(class_terms))\n",
      "\n",
      "count = 0\n",
      "all_fp_ratios = []\n",
      "\n",
      "for method in methods:\n",
      "    overlap_scores = [i[0] for i in coverage[method]]\n",
      "    rects = bar(index, overlap_scores, width=bar_width, color=colors[count], label=labels[method])\n",
      "    label_numbers(rects, [len(labelled_class_instances[method][i]['tp']) for i in class_terms.keys()])\n",
      "    fp_ratios = [i[1] for i in coverage[method]]\n",
      "    all_fp_ratios.extend(zip(index+bar_width/2.0, fp_ratios))\n",
      "    index = index+bar_width\n",
      "    count += 1\n",
      "    \n",
      "all_fp_ratios = array(sorted(all_fp_ratios, key=lambda x:x[0]))\n",
      "stem(all_fp_ratios[:, 0], all_fp_ratios[:, 1], linefmt='k--', markerfmt='ko')\n",
      "\n",
      "fontsize=30\n",
      "xlabel('Concepts', fontsize=fontsize+2)\n",
      "ylabel('Overlap ($O$) with reference data', fontsize=fontsize+2)\n",
      "if keyword == 'carnatic_music':\n",
      "    xticks(index-1.5*bar_width, [i[9:] for i in class_terms.keys()])\n",
      "else:\n",
      "    xticks(index-1.5*bar_width, [i[11:] for i in class_terms.keys()])\n",
      "legend(prop={'size': fontsize}, loc='upper left', \n",
      "       fancybox=True)\n",
      "\n",
      "xticks(fontsize=fontsize, rotation=14)\n",
      "yticks(fontsize=fontsize)"
     ],
     "language": "python",
     "metadata": {},
     "outputs": []
    },
    {
     "cell_type": "code",
     "collapsed": false,
     "input": [
      "ylim(0, 0.74)"
     ],
     "language": "python",
     "metadata": {},
     "outputs": []
    },
    {
     "cell_type": "code",
     "collapsed": false,
     "input": [
      "fname = home+'/workspace/nerpari/data/results/qualitative/entity-identification/rule-based/'+keyword+'/class-agreement-with-wikipedia'\n",
      "savefig(fname+'.pdf', dpi=200, facecolor='w', edgecolor='w', orientation='landscape', \n",
      "        papertype=None, format=None, transparent=False, bbox_inches='tight', pad_inches=0.1)\n",
      "savefig(fname+'.png', dpi=200, facecolor='w', edgecolor='w', orientation='landscape', \n",
      "        papertype=None, format=None, transparent=False, bbox_inches='tight', pad_inches=0.1)"
     ],
     "language": "python",
     "metadata": {},
     "outputs": []
    },
    {
     "cell_type": "code",
     "collapsed": false,
     "input": [
      "close('all')"
     ],
     "language": "python",
     "metadata": {},
     "outputs": []
    },
    {
     "cell_type": "code",
     "collapsed": false,
     "input": [
      "agreement_scores = ontologization.compute_agreement(labelled_class_instances, methods)"
     ],
     "language": "python",
     "metadata": {},
     "outputs": []
    },
    {
     "cell_type": "code",
     "collapsed": false,
     "input": [
      "rcParams['figure.figsize'] = (12.0, 10.0)\n",
      "inter_labels = {'reverb-openie': 'ReVerb-OpenIE 4.0', 'openie-semantic-parsing': 'OpenIE 4.0-Sem. Parsing', \n",
      "                'reverb-semantic-parsing': 'Sem. Parsing-ReVerb'}\n",
      "\n",
      "fig, ax = plt.subplots()\n",
      "\n",
      "bar_width = 0.2\n",
      "index = arange(len(class_terms))\n",
      "count = 0\n",
      "for method, res in agreement_scores.items():\n",
      "    scores = [i[0] for i in res]\n",
      "    abs_numbers = [len(i[1]) for i in res]\n",
      "    \n",
      "    rects = bar(index, scores, bar_width, color=colors[count], label=inter_labels[method])\n",
      "    label_numbers(rects, abs_numbers)\n",
      "    \n",
      "    index = index+bar_width\n",
      "    count += 1\n",
      "\n",
      "fontsize=30\n",
      "xlabel('Concepts', fontsize=fontsize+2)\n",
      "ylabel('Inter-system agreement over $R$', fontsize=fontsize+2)\n",
      "if keyword == 'carnatic_music':\n",
      "    xticks(index-1.5*bar_width, [i[9:] for i in class_terms.keys()])\n",
      "else:\n",
      "    xticks(index-1.5*bar_width, [i[11:] for i in class_terms.keys()])\n",
      "legend(prop={'size': fontsize}, loc='upper center', \n",
      "       bbox_to_anchor=(0.5, 1.2), fancybox=True)\n",
      "\n",
      "xticks(fontsize=fontsize, rotation=10)\n",
      "yticks(fontsize=fontsize)"
     ],
     "language": "python",
     "metadata": {},
     "outputs": []
    },
    {
     "cell_type": "code",
     "collapsed": false,
     "input": [
      "ylim(0, 1.05)"
     ],
     "language": "python",
     "metadata": {},
     "outputs": []
    },
    {
     "cell_type": "code",
     "collapsed": false,
     "input": [
      "fname = home+'/workspace/nerpari/data/results/qualitative/entity-identification/rule-based/'+keyword+'/class-agreement-inter-method'\n",
      "savefig(fname+'.pdf', dpi=200, facecolor='w', edgecolor='w', orientation='landscape', \n",
      "        papertype=None, format=None, transparent=False, bbox_inches='tight', pad_inches=0.1)\n",
      "savefig(fname+'.png', dpi=200, facecolor='w', edgecolor='w', orientation='landscape', \n",
      "        papertype=None, format=None, transparent=False, bbox_inches='tight', pad_inches=0.1)"
     ],
     "language": "python",
     "metadata": {},
     "outputs": []
    },
    {
     "cell_type": "heading",
     "level": 1,
     "metadata": {},
     "source": [
      "Bootstrapping"
     ]
    },
    {
     "cell_type": "markdown",
     "metadata": {},
     "source": [
      "**Distance measure**: Cosine similarity between split-object vectors of seedset and the given entity. For seedset, we consider those split objects which occur more than once.\n",
      "\n",
      "* Iterate over the set and select the nearest to the seedset\n",
      "* Merge it with seedset and recompute it's split-object vector\n",
      "* Re-iterate\n",
      "\n",
      "Variables to play with:\n",
      "\n",
      "* Seedset size\n",
      "* Iterations"
     ]
    },
    {
     "cell_type": "code",
     "collapsed": false,
     "input": [
      "from random import shuffle\n",
      "reload(ontologization)\n",
      "\n",
      "#NOTE: Run rule-based before running this, it uses class_instances and the groundtruth from that!!"
     ],
     "language": "python",
     "metadata": {},
     "outputs": []
    },
    {
     "cell_type": "code",
     "collapsed": false,
     "input": [
      "def get_seedset(class_instances, n=3):\n",
      "    seedset = {}\n",
      "    for class_type, instances in class_instances.items():\n",
      "        shuffle(instances)\n",
      "        seedset[class_type] = instances[:n]\n",
      "    return seedset"
     ],
     "language": "python",
     "metadata": {},
     "outputs": []
    },
    {
     "cell_type": "code",
     "collapsed": false,
     "input": [
      "coverage = {}\n",
      "iteration_step = 5\n",
      "\n",
      "for method in methods:\n",
      "    coverage[method] = {}\n",
      "    \n",
      "    relations = pickle.load(file(home+'/workspace/nerpari/data/'+method+'/'+keyword+'/relations'+coref_suffix+filtered_suffix+'.pickle'))\n",
      "    relations = [[i['arg1'].lower(), lemmatizer.lemmatize(i['rel'].lower(), pos='v'), i['arg2'].lower()] for i in relations]\n",
      "        \n",
      "    predicates = ontologization.get_predicates(relations, normalization=False)\n",
      "    objects = ontologization.get_objects(relations, split=True, normalization=True)\n",
      "    class_instances = ontologization.class_instances_by_rules(relations, rules)\n",
      "    \n",
      "    n_seedsets = 5\n",
      "    for n_seedset in xrange(n_seedsets): \n",
      "        seedset = get_seedset(class_instances, 3)\n",
      "        \n",
      "        total_iterations = 0\n",
      "        \n",
      "        for class_type in seedset.keys():\n",
      "            if class_type not in coverage[method].keys():\n",
      "                coverage[method][class_type] = []\n",
      "                \n",
      "            bootstrap_iterator = ontologization.bootstrap_lsa(seedset[class_type], objects, predicates, \n",
      "                                               expansion=1, iterations=len(groundtruth[class_type]), yield_step=iteration_step)\n",
      "            iter_count = 1\n",
      "            while True:\n",
      "                try:\n",
      "                    res = bootstrap_iterator.next()\n",
      "                    overlap_score = ontologization.overlap(res, groundtruth[class_type])\n",
      "                    fp_ratio = len(set(res)-set(groundtruth[class_type]))/len(res)\n",
      "                    if len(coverage[method][class_type]) <= iter_count:\n",
      "                        coverage[method][class_type].append([overlap_score, fp_ratio])\n",
      "                    else:\n",
      "                        coverage[method][class_type][iter_count-1][0] += overlap_score\n",
      "                        coverage[method][class_type][iter_count-1][0] /= 2.0\n",
      "                        coverage[method][class_type][iter_count-1][1] += fp_ratio\n",
      "                        coverage[method][class_type][iter_count-1][1] /= 2.0\n",
      "                    iter_count += 1\n",
      "                except StopIteration:\n",
      "                    break"
     ],
     "language": "python",
     "metadata": {},
     "outputs": []
    },
    {
     "cell_type": "code",
     "collapsed": false,
     "input": [
      "coverage"
     ],
     "language": "python",
     "metadata": {},
     "outputs": []
    },
    {
     "cell_type": "code",
     "collapsed": false,
     "input": [
      "import itertools\n",
      "def flip(items, ncol):\n",
      "    return itertools.chain(*[items[i::ncol] for i in range(ncol)])"
     ],
     "language": "python",
     "metadata": {},
     "outputs": []
    },
    {
     "cell_type": "code",
     "collapsed": false,
     "input": [
      "rcParams['figure.figsize'] = (12.0, 10.0)\n",
      "styles = ['-', '--']\n",
      "for class_type in seedset.keys():\n",
      "    fig = figure()\n",
      "    ax = fig.add_subplot(1,1,1)\n",
      "    \n",
      "    count = 0\n",
      "    for method in methods:\n",
      "        y1 = [i[0] for i in coverage[method][class_type]]\n",
      "        y2 = [i[1] for i in coverage[method][class_type]]\n",
      "        x = arange(1, len(y1)+1)*iteration_step\n",
      "        plot(x, y1, styles[0], color=colors[count], label=labels[method], linewidth=2.5)\n",
      "        plot(x, y2, styles[1], color=colors[count], linewidth=2.5)\n",
      "        count += 1\n",
      "    \n",
      "    fontsize=30\n",
      "    xlabel('No. of entities bootstrapped', fontsize=fontsize+2)\n",
      "    #ylabel('Num. of instances bootstrapped', fontsize=fontsize+2)\n",
      "\n",
      "    #Get artists and labels for legend\n",
      "    handles, _labels = ax.get_legend_handles_labels()\n",
      "    \n",
      "    #Create custom artists\n",
      "    custom_artists = []\n",
      "    custom_artists.append(plt.Line2D((0,1),(0,0), color='k', linestyle='-'))\n",
      "    custom_artists.append(plt.Line2D((0,1),(0,0), color='k', linestyle='--'))\n",
      "    \n",
      "    ax.legend(flip(handles+custom_artists, 3),\n",
      "              flip(_labels + ['Overlap ($O$)', 'Residual ($R$)'], 3),\n",
      "              ncol=3, prop={'size': fontsize-6},\n",
      "              loc='upper center', bbox_to_anchor=(0.5, 1.1),\n",
      "              fancybox=True)\n",
      "    \n",
      "    xticks(fontsize=fontsize)\n",
      "    yticks(fontsize=fontsize)\n",
      "    ylim_down, ylim_up = ax.get_ylim()\n",
      "    ylim(ylim_down, ylim_up*1.05)\n",
      "    xlim_down, xlim_up = ax.get_xlim()\n",
      "    xlim(xlim_down, xlim_up*0.95)\n",
      "    \n",
      "    grid(True)\n",
      "    xgridlines = getp(gca(), 'xgridlines')\n",
      "    ygridlines = getp(gca(), 'ygridlines')\n",
      "    setp(xgridlines, 'color', '0.6')\n",
      "    setp(ygridlines, 'color', '0.6')\n",
      "    \n",
      "    fname = home+'/workspace/nerpari/data/results/qualitative/entity-identification/bootstrapping/'+keyword+'/'+class_type\n",
      "    savefig(fname+'.pdf', dpi=200, facecolor='w', edgecolor='w', orientation='landscape', \n",
      "            papertype=None, format=None, transparent=False, bbox_inches='tight', pad_inches=0.1)\n",
      "    savefig(fname+'.png', dpi=200, facecolor='w', edgecolor='w', orientation='landscape', \n",
      "            papertype=None, format=None, transparent=False, bbox_inches='tight', pad_inches=0.1)\n",
      "    close()"
     ],
     "language": "python",
     "metadata": {},
     "outputs": []
    },
    {
     "cell_type": "code",
     "collapsed": false,
     "input": [
      "class_type"
     ],
     "language": "python",
     "metadata": {},
     "outputs": []
    },
    {
     "cell_type": "code",
     "collapsed": false,
     "input": [
      "close('all')"
     ],
     "language": "python",
     "metadata": {},
     "outputs": []
    }
   ],
   "metadata": {}
  }
 ]
}