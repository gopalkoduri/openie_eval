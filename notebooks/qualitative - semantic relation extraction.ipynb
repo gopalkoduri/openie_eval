{
 "metadata": {
  "name": ""
 },
 "nbformat": 3,
 "nbformat_minor": 0,
 "worksheets": [
  {
   "cells": [
    {
     "cell_type": "code",
     "collapsed": false,
     "input": [
      "from __future__ import division\n",
      "import codecs\n",
      "import pickle\n",
      "import networkx as nx\n",
      "from collections import Counter\n",
      "\n",
      "rcParams['figure.figsize'] = (12.0, 10.0)\n",
      "rcParams['font.family'] = 'Times New Roman'"
     ],
     "language": "python",
     "metadata": {},
     "outputs": []
    },
    {
     "cell_type": "code",
     "collapsed": false,
     "input": [
      "from os.path import abspath\n",
      "workspace = \"/\".join(abspath('.').split('/')[:-1])"
     ],
     "language": "python",
     "metadata": {},
     "outputs": []
    },
    {
     "cell_type": "markdown",
     "metadata": {},
     "source": [
      "**Note**: Make sure that your workspace sees the root directory of openie_eval."
     ]
    },
    {
     "cell_type": "code",
     "collapsed": false,
     "input": [
      "from openie_eval.openie_eval import semantic_parsing as sp\n",
      "from openie_eval.openie_eval import ontologization\n",
      "reload(sp)\n",
      "reload(ontologization)\n",
      "\n",
      "from nltk.stem import WordNetLemmatizer\n",
      "lemmatizer = WordNetLemmatizer()"
     ],
     "language": "python",
     "metadata": {},
     "outputs": []
    },
    {
     "cell_type": "code",
     "collapsed": false,
     "input": [
      "keyword = 'carnatic_music'\n",
      "\n",
      "wiki_entities = codecs.open(workspace + '/data/ground-truth/'+keyword+'_pages.txt', encoding='utf-8').readlines()\n",
      "wiki_entities = [i.strip().lower() for i in wiki_entities]\n",
      "\n",
      "methods = ['reverb', 'openie', 'semantic-parsing']\n",
      "labels = {'reverb': 'ReVerb', 'openie': 'OpenIE 4.0', 'semantic-parsing': 'Sem. Parsing'}\n",
      "colors = ['#990033', '#006600', '#330066']\n",
      "\n",
      "#coref_suffix = ''\n",
      "coref_suffix = '-coref'\n",
      "\n",
      "filtered_suffix = ''\n",
      "#filtered_suffix = '-filtered'\n",
      "\n",
      "rules = pickle.load(file(workspace + '/data/results/qualitative/entity-identification/rule-based/'+keyword+'/rules.pickle'))\n",
      "groundtruth = ontologization.load_groundtruth(keyword, rules.keys())"
     ],
     "language": "python",
     "metadata": {},
     "outputs": []
    },
    {
     "cell_type": "heading",
     "level": 1,
     "metadata": {},
     "source": [
      "Valid relation types"
     ]
    },
    {
     "cell_type": "code",
     "collapsed": false,
     "input": [
      "#class-wise\n",
      "method_counts = {method: [] for method in methods}\n",
      "\n",
      "for class_type in groundtruth.keys():\n",
      "    tsv_file = workspace + '/data/results/qualitative/semantic-relation-extraction/'+class_type+'.tsv'\n",
      "    data = loadtxt(tsv_file, delimiter='\\t', dtype='str')\n",
      "    if len(data) == 0:\n",
      "        for method in methods:\n",
      "            method_counts[method].append(0)\n",
      "        continue\n",
      "    method_counts['reverb'].append(sum(unique(data[:, 0]) != ''))\n",
      "    method_counts['openie'].append(sum(unique(data[:, 1]) != ''))\n",
      "    method_counts['semantic-parsing'].append(sum(unique(data[:, 2]) != ''))"
     ],
     "language": "python",
     "metadata": {},
     "outputs": []
    },
    {
     "cell_type": "code",
     "collapsed": false,
     "input": [
      "#all-together\n",
      "tsv_file = workspace + '/data/results/qualitative/semantic-relation-extraction/'+keyword+'.tsv'\n",
      "data = loadtxt(tsv_file, delimiter='\\t', dtype='str')\n",
      "if keyword == 'carnatic_music':\n",
      "    n_subtract = 7\n",
      "else:\n",
      "    n_subtract = 6\n",
      "    \n",
      "method_counts['reverb'].append(sum(unique(data[:, 0]) != '')-n_subtract)\n",
      "method_counts['openie'].append(sum(unique(data[:, 1]) != '')-n_subtract)\n",
      "method_counts['semantic-parsing'].append(sum(unique(data[:, 2]) != '')-n_subtract)"
     ],
     "language": "python",
     "metadata": {},
     "outputs": []
    },
    {
     "cell_type": "code",
     "collapsed": false,
     "input": [
      "method_counts"
     ],
     "language": "python",
     "metadata": {},
     "outputs": []
    },
    {
     "cell_type": "code",
     "collapsed": false,
     "input": [
      "rcParams['figure.figsize'] = (12.0, 10.0)\n",
      "fig, ax = plt.subplots()\n",
      "\n",
      "bar_width = 0.2\n",
      "index = arange(len(groundtruth.keys())+1)\n",
      "\n",
      "i = 0\n",
      "for method in methods:\n",
      "    counts = method_counts[method]\n",
      "    rects = bar(index, counts, width=bar_width, color=colors[i], label=labels[method])\n",
      "    index = index+bar_width\n",
      "    i += 1\n",
      "    \n",
      "fontsize=30\n",
      "xlabel('Concepts', fontsize=fontsize+2)\n",
      "ylabel('#Relation types', fontsize=fontsize+2)\n",
      "\n",
      "if keyword == 'carnatic_music':\n",
      "    xticks(index-1.5*bar_width, [i[9:] for i in groundtruth.keys()]+['all'])\n",
      "else:\n",
      "    xticks(index-1.5*bar_width, [i[11:] for i in groundtruth.keys()]+['all'])\n",
      "legend(prop={'size': fontsize}, loc='upper left', \n",
      "       fancybox=True)\n",
      "\n",
      "xticks(fontsize=fontsize, rotation=18)\n",
      "yticks(fontsize=fontsize)"
     ],
     "language": "python",
     "metadata": {},
     "outputs": []
    },
    {
     "cell_type": "code",
     "collapsed": false,
     "input": [
      "fname = workspace + '/data/results/qualitative/semantic-relation-extraction/'+keyword\n",
      "savefig(fname+'.pdf', dpi=200, facecolor='w', edgecolor='w', orientation='landscape', \n",
      "        papertype=None, format=None, transparent=False, bbox_inches='tight', pad_inches=0.1)\n",
      "savefig(fname+'.png', dpi=200, facecolor='w', edgecolor='w', orientation='landscape', \n",
      "        papertype=None, format=None, transparent=False, bbox_inches='tight', pad_inches=0.1)"
     ],
     "language": "python",
     "metadata": {},
     "outputs": []
    },
    {
     "cell_type": "code",
     "collapsed": false,
     "input": [
      "close('all')"
     ],
     "language": "python",
     "metadata": {},
     "outputs": []
    },
    {
     "cell_type": "heading",
     "level": 1,
     "metadata": {},
     "source": [
      "Assertions with those reltypes over entities"
     ]
    },
    {
     "cell_type": "code",
     "collapsed": false,
     "input": [
      "#class-wise\n",
      "method_rels = {method: {} for method in methods}\n",
      "\n",
      "for class_type in groundtruth.keys():\n",
      "    tsv_file = workspace + '/data/results/qualitative/semantic-relation-extraction/'+class_type+'.tsv'\n",
      "    data = loadtxt(tsv_file, delimiter='\\t', dtype='str')\n",
      "    if len(data) == 0:\n",
      "        continue\n",
      "    method_rels['reverb'][class_type] = unique(data[:, 0])\n",
      "    method_rels['openie'][class_type] = unique(data[:, 1])\n",
      "    method_rels['semantic-parsing'][class_type] = unique(data[:, 2])"
     ],
     "language": "python",
     "metadata": {},
     "outputs": []
    },
    {
     "cell_type": "code",
     "collapsed": false,
     "input": [
      "method_rels"
     ],
     "language": "python",
     "metadata": {},
     "outputs": []
    },
    {
     "cell_type": "code",
     "collapsed": false,
     "input": [
      "method_counts = {method: [] for method in methods}\n",
      "\n",
      "for method, reldata in method_rels.items():\n",
      "    relations = pickle.load(file(workspace+'/data/'+method+'/'+keyword+'/relations'+coref_suffix+'-filtered.pickle'))\n",
      "    relations = [[i['arg1'].lower(), lemmatizer.lemmatize(i['rel'].lower(), pos='v'), i['arg2'].lower()] for i in relations]\n",
      "    \n",
      "    for class_type in groundtruth.keys():\n",
      "        class_count = 0\n",
      "        if class_type not in reldata.keys():\n",
      "            method_counts[method].append(0)\n",
      "            continue\n",
      "        for rel in reldata[class_type]:\n",
      "            class_count += len([i for i in relations if i[1] == rel])\n",
      "        method_counts[method].append(class_count)"
     ],
     "language": "python",
     "metadata": {},
     "outputs": []
    },
    {
     "cell_type": "code",
     "collapsed": false,
     "input": [
      "rcParams['figure.figsize'] = (12.0, 10.0)\n",
      "fig, ax = plt.subplots()\n",
      "\n",
      "bar_width = 0.2\n",
      "index = arange(len(groundtruth.keys()))\n",
      "\n",
      "i = 0\n",
      "for method in methods:\n",
      "    counts = method_counts[method]\n",
      "    rects = bar(index, counts, width=bar_width, color=colors[i], label=labels[method])\n",
      "    index = index+bar_width\n",
      "    i += 1\n",
      "    \n",
      "fontsize=30\n",
      "xlabel('Concepts', fontsize=fontsize+2)\n",
      "ylabel('#Assertions', fontsize=fontsize+2)\n",
      "\n",
      "if keyword == 'carnatic_music':\n",
      "    xticks(index-1.5*bar_width, [i[9:] for i in groundtruth.keys()])\n",
      "else:\n",
      "    xticks(index-1.5*bar_width, [i[11:] for i in groundtruth.keys()])\n",
      "legend(prop={'size': fontsize}, loc='upper center', \n",
      "       bbox_to_anchor=(0.5, 1.18), fancybox=True)\n",
      "\n",
      "xticks(fontsize=fontsize, rotation=18)\n",
      "yticks(fontsize=fontsize)\n"
     ],
     "language": "python",
     "metadata": {},
     "outputs": []
    },
    {
     "cell_type": "code",
     "collapsed": false,
     "input": [
      "ylim(0, 245)"
     ],
     "language": "python",
     "metadata": {},
     "outputs": []
    },
    {
     "cell_type": "code",
     "collapsed": false,
     "input": [
      "fname = workspace+'/data/results/qualitative/semantic-relation-extraction/'+keyword+'-relcount'\n",
      "savefig(fname+'.pdf', dpi=200, facecolor='w', edgecolor='w', orientation='landscape', \n",
      "        papertype=None, format=None, transparent=False, bbox_inches='tight', pad_inches=0.1)\n",
      "savefig(fname+'.png', dpi=200, facecolor='w', edgecolor='w', orientation='landscape', \n",
      "        papertype=None, format=None, transparent=False, bbox_inches='tight', pad_inches=0.1)"
     ],
     "language": "python",
     "metadata": {},
     "outputs": []
    },
    {
     "cell_type": "code",
     "collapsed": false,
     "input": [
      "close('all')"
     ],
     "language": "python",
     "metadata": {},
     "outputs": []
    }
   ],
   "metadata": {}
  }
 ]
}