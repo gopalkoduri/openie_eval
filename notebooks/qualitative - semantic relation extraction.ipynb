{
 "metadata": {
  "name": ""
 },
 "nbformat": 3,
 "nbformat_minor": 0,
 "worksheets": [
  {
   "cells": [
    {
     "cell_type": "code",
     "collapsed": false,
     "input": [
      "from __future__ import division\n",
      "import codecs\n",
      "import pickle\n",
      "import networkx as nx\n",
      "from collections import Counter\n",
      "\n",
      "%pylab tk\n",
      "rcParams['figure.figsize'] = (12.0, 10.0)\n",
      "rcParams['font.family'] = 'Times New Roman'\n",
      "from os.path import expanduser\n",
      "home = expanduser(\"~\")\n",
      "\n",
      "import sys\n",
      "sys.path.append(home + '/workspace')"
     ],
     "language": "python",
     "metadata": {},
     "outputs": [
      {
       "output_type": "stream",
       "stream": "stdout",
       "text": [
        "Populating the interactive namespace from numpy and matplotlib\n"
       ]
      },
      {
       "output_type": "stream",
       "stream": "stderr",
       "text": [
        "WARNING: pylab import has clobbered these variables: ['colors']\n",
        "`%pylab --no-import-all` prevents importing * from pylab and numpy\n"
       ]
      }
     ],
     "prompt_number": 186
    },
    {
     "cell_type": "code",
     "collapsed": false,
     "input": [
      "from vichakshana.vichakshana import progressbar\n",
      "from nerpari.nerpari import semantic_parsing as sp\n",
      "from nerpari.nerpari import ontologization\n",
      "reload(sp)\n",
      "reload(ontologization)\n",
      "\n",
      "from wiki_tools.wiki_grapher import ochiai_coefficient"
     ],
     "language": "python",
     "metadata": {},
     "outputs": [],
     "prompt_number": 187
    },
    {
     "cell_type": "code",
     "collapsed": false,
     "input": [
      "from nltk.stem import WordNetLemmatizer\n",
      "lemmatizer = WordNetLemmatizer()"
     ],
     "language": "python",
     "metadata": {},
     "outputs": [],
     "prompt_number": 188
    },
    {
     "cell_type": "code",
     "collapsed": false,
     "input": [
      "keyword = 'carnatic_music'\n",
      "\n",
      "wiki_entities = codecs.open(home + '/workspace/nerpari/data/ground-truth/'+keyword+'_pages.txt', encoding='utf-8').readlines()\n",
      "wiki_entities = [i.strip().lower() for i in wiki_entities]\n",
      "\n",
      "methods = ['reverb', 'openie', 'semantic-parsing']\n",
      "labels = {'reverb': 'ReVerb', 'openie': 'OpenIE 4.0', 'semantic-parsing': 'Sem. Parsing'}\n",
      "colors = ['#990033', '#006600', '#330066']\n",
      "\n",
      "#coref_suffix = ''\n",
      "coref_suffix = '-coref'\n",
      "\n",
      "filtered_suffix = ''\n",
      "#filtered_suffix = '-filtered'\n",
      "\n",
      "rules = pickle.load(file(home + '/workspace/nerpari/data/results/qualitative/entity-identification/rule-based/'+keyword+'/rules.pickle'))\n",
      "groundtruth = ontologization.load_groundtruth(keyword, rules.keys())"
     ],
     "language": "python",
     "metadata": {},
     "outputs": [],
     "prompt_number": 256
    },
    {
     "cell_type": "heading",
     "level": 1,
     "metadata": {},
     "source": [
      "Valid relation types"
     ]
    },
    {
     "cell_type": "code",
     "collapsed": false,
     "input": [
      "#class-wise\n",
      "method_counts = {method: [] for method in methods}\n",
      "\n",
      "for class_type in groundtruth.keys():\n",
      "    tsv_file = home + '/workspace/nerpari/data/results/qualitative/semantic-relation-extraction/'+class_type+'.tsv'\n",
      "    data = loadtxt(tsv_file, delimiter='\\t', dtype='str')\n",
      "    if len(data) == 0:\n",
      "        for method in methods:\n",
      "            method_counts[method].append(0)\n",
      "        continue\n",
      "    method_counts['reverb'].append(sum(unique(data[:, 0]) != ''))\n",
      "    method_counts['openie'].append(sum(unique(data[:, 1]) != ''))\n",
      "    method_counts['semantic-parsing'].append(sum(unique(data[:, 2]) != ''))"
     ],
     "language": "python",
     "metadata": {},
     "outputs": [],
     "prompt_number": 201
    },
    {
     "cell_type": "code",
     "collapsed": false,
     "input": [
      "#all-together\n",
      "tsv_file = home + '/workspace/nerpari/data/results/qualitative/semantic-relation-extraction/'+keyword+'.tsv'\n",
      "data = loadtxt(tsv_file, delimiter='\\t', dtype='str')\n",
      "if keyword == 'carnatic_music':\n",
      "    n_subtract = 7\n",
      "else:\n",
      "    n_subtract = 6\n",
      "    \n",
      "method_counts['reverb'].append(sum(unique(data[:, 0]) != '')-n_subtract)\n",
      "method_counts['openie'].append(sum(unique(data[:, 1]) != '')-n_subtract)\n",
      "method_counts['semantic-parsing'].append(sum(unique(data[:, 2]) != '')-n_subtract)"
     ],
     "language": "python",
     "metadata": {},
     "outputs": [],
     "prompt_number": 202
    },
    {
     "cell_type": "code",
     "collapsed": false,
     "input": [
      "method_counts"
     ],
     "language": "python",
     "metadata": {},
     "outputs": [
      {
       "metadata": {},
       "output_type": "pyout",
       "prompt_number": 203,
       "text": [
        "{'openie': [9, 0, 9, 8, 2, 12],\n",
        " 'reverb': [7, 0, 12, 8, 1, 18],\n",
        " 'semantic-parsing': [12, 0, 12, 12, 2, 22]}"
       ]
      }
     ],
     "prompt_number": 203
    },
    {
     "cell_type": "code",
     "collapsed": false,
     "input": [
      "rcParams['figure.figsize'] = (12.0, 10.0)\n",
      "fig, ax = plt.subplots()\n",
      "\n",
      "bar_width = 0.2\n",
      "index = arange(len(groundtruth.keys())+1)\n",
      "\n",
      "i = 0\n",
      "for method in methods:\n",
      "    counts = method_counts[method]\n",
      "    rects = bar(index, counts, width=bar_width, color=colors[i], label=labels[method])\n",
      "    index = index+bar_width\n",
      "    i += 1\n",
      "    \n",
      "fontsize=30\n",
      "xlabel('Concepts', fontsize=fontsize+2)\n",
      "ylabel('#Relation types', fontsize=fontsize+2)\n",
      "\n",
      "if keyword == 'carnatic_music':\n",
      "    xticks(index-1.5*bar_width, [i[9:] for i in groundtruth.keys()]+['all'])\n",
      "else:\n",
      "    xticks(index-1.5*bar_width, [i[11:] for i in groundtruth.keys()]+['all'])\n",
      "legend(prop={'size': fontsize}, loc='upper left', \n",
      "       fancybox=True)\n",
      "\n",
      "xticks(fontsize=fontsize, rotation=18)\n",
      "yticks(fontsize=fontsize)"
     ],
     "language": "python",
     "metadata": {},
     "outputs": [
      {
       "metadata": {},
       "output_type": "pyout",
       "prompt_number": 204,
       "text": [
        "(array([  0.,   5.,  10.,  15.,  20.,  25.]),\n",
        " <a list of 6 Text yticklabel objects>)"
       ]
      }
     ],
     "prompt_number": 204
    },
    {
     "cell_type": "code",
     "collapsed": false,
     "input": [
      "fname = home+'/workspace/nerpari/data/results/qualitative/semantic-relation-extraction/'+keyword\n",
      "savefig(fname+'.pdf', dpi=200, facecolor='w', edgecolor='w', orientation='landscape', \n",
      "        papertype=None, format=None, transparent=False, bbox_inches='tight', pad_inches=0.1)\n",
      "savefig(fname+'.png', dpi=200, facecolor='w', edgecolor='w', orientation='landscape', \n",
      "        papertype=None, format=None, transparent=False, bbox_inches='tight', pad_inches=0.1)"
     ],
     "language": "python",
     "metadata": {},
     "outputs": [],
     "prompt_number": 205
    },
    {
     "cell_type": "code",
     "collapsed": false,
     "input": [
      "close('all')"
     ],
     "language": "python",
     "metadata": {},
     "outputs": [],
     "prompt_number": 206
    },
    {
     "cell_type": "heading",
     "level": 1,
     "metadata": {},
     "source": [
      "Assertions with those reltypes over entities"
     ]
    },
    {
     "cell_type": "code",
     "collapsed": false,
     "input": [
      "#class-wise\n",
      "method_rels = {method: {} for method in methods}\n",
      "\n",
      "for class_type in groundtruth.keys():\n",
      "    tsv_file = home + '/workspace/nerpari/data/results/qualitative/semantic-relation-extraction/'+class_type+'.tsv'\n",
      "    data = loadtxt(tsv_file, delimiter='\\t', dtype='str')\n",
      "    if len(data) == 0:\n",
      "        continue\n",
      "    method_rels['reverb'][class_type] = unique(data[:, 0])\n",
      "    method_rels['openie'][class_type] = unique(data[:, 1])\n",
      "    method_rels['semantic-parsing'][class_type] = unique(data[:, 2])"
     ],
     "language": "python",
     "metadata": {},
     "outputs": [],
     "prompt_number": 257
    },
    {
     "cell_type": "code",
     "collapsed": false,
     "input": [
      "method_rels"
     ],
     "language": "python",
     "metadata": {},
     "outputs": [
      {
       "metadata": {},
       "output_type": "pyout",
       "prompt_number": 263,
       "text": [
        "{'openie': {'carnatic_composers': array(['', 'compose', 'die', 'has composed', 'learn', 'live', 'was born'], \n",
        "      dtype='|S12'),\n",
        "  'carnatic_instrumentalists': array(['', 'accompany', 'compose', 'die', 'learn', 'perform', 'play',\n",
        "       'receive', 'teach', 'was awarded', 'was born'], \n",
        "      dtype='|S13'),\n",
        "  'carnatic_musicians': array(['', 'compose', 'die', 'learn', 'live', 'play', 'receive', 'sing',\n",
        "       'teach', 'was awarded', 'was born'], \n",
        "      dtype='|S14'),\n",
        "  'carnatic_ragas': array(['', 'associate', 'does not have', 'is a combination of',\n",
        "       'is a janya ragam from', 'is a ragam in', 'is called'], \n",
        "      dtype='|S21'),\n",
        "  'carnatic_singers': array(['', 'has composed', 'learn', 'receive', 'was awarded', 'was born'], \n",
        "      dtype='|S16')},\n",
        " 'reverb': {'carnatic_composers': array(['', 'compose', 'lived in', 'was born in'], \n",
        "      dtype='|S12'),\n",
        "  'carnatic_instrumentalists': array(['', 'is married to', 'play', 'was born in', 'was born on',\n",
        "       'was born to'], \n",
        "      dtype='|S13'),\n",
        "  'carnatic_musicians': array(['', 'compose', 'died on', 'is married to', 'play', 'receive',\n",
        "       'sing', 'was born in', 'was born on', 'was born to',\n",
        "       'was married to'], \n",
        "      dtype='|S14'),\n",
        "  'carnatic_ragas': array(['', 'does not have', 'does not yield', 'is a combination of',\n",
        "       'is called', 'yield'], \n",
        "      dtype='|S21'),\n",
        "  'carnatic_singers': array(['', 'has also sung in', 'was born in', 'was born to'], \n",
        "      dtype='|S16')},\n",
        " 'semantic-parsing': {'carnatic_composers': array(['', 'bear in', 'bear to', 'compose', 'compose in', 'composer of',\n",
        "       'live in', 'write'], \n",
        "      dtype='|S12'),\n",
        "  'carnatic_instrumentalists': array(['', 'accompany', 'bear in', 'bear on', 'bear to', 'know as',\n",
        "       'marry to', 'play', 'receive', 'teach'], \n",
        "      dtype='|S13'),\n",
        "  'carnatic_musicians': array(['', 'accompany', 'bear in', 'bear on', 'bear to', 'compose',\n",
        "       'compose in', 'composer of', 'know as', 'learn', 'play', 'receive',\n",
        "       'sing'], \n",
        "      dtype='|S14'),\n",
        "  'carnatic_ragas': array(['', 'associate with', 'combination of', 'derivative of',\n",
        "       'equivalent of', 'not contain', 'not have', 'ragam in'], \n",
        "      dtype='|S21'),\n",
        "  'carnatic_singers': array(['', 'accompany', 'artist in', 'bear in', 'bear to', 'compose',\n",
        "       'hail from', 'receive', 'sing', 'sing in', 'vocalist from'], \n",
        "      dtype='|S16')}}"
       ]
      }
     ],
     "prompt_number": 263
    },
    {
     "cell_type": "code",
     "collapsed": false,
     "input": [
      "method_counts = {method: [] for method in methods}\n",
      "\n",
      "for method, reldata in method_rels.items():\n",
      "    relations = pickle.load(file(home+'/workspace/nerpari/data/'+method+'/'+keyword+'/relations'+coref_suffix+'-filtered.pickle'))\n",
      "    relations = [[i['arg1'].lower(), lemmatizer.lemmatize(i['rel'].lower(), pos='v'), i['arg2'].lower()] for i in relations]\n",
      "    \n",
      "    for class_type in groundtruth.keys():\n",
      "        class_count = 0\n",
      "        if class_type not in reldata.keys():\n",
      "            method_counts[method].append(0)\n",
      "            continue\n",
      "        for rel in reldata[class_type]:\n",
      "            class_count += len([i for i in relations if i[1] == rel])\n",
      "        method_counts[method].append(class_count)"
     ],
     "language": "python",
     "metadata": {},
     "outputs": [],
     "prompt_number": 258
    },
    {
     "cell_type": "code",
     "collapsed": false,
     "input": [
      "rcParams['figure.figsize'] = (12.0, 10.0)\n",
      "fig, ax = plt.subplots()\n",
      "\n",
      "bar_width = 0.2\n",
      "index = arange(len(groundtruth.keys()))\n",
      "\n",
      "i = 0\n",
      "for method in methods:\n",
      "    counts = method_counts[method]\n",
      "    rects = bar(index, counts, width=bar_width, color=colors[i], label=labels[method])\n",
      "    index = index+bar_width\n",
      "    i += 1\n",
      "    \n",
      "fontsize=30\n",
      "xlabel('Concepts', fontsize=fontsize+2)\n",
      "ylabel('#Assertions', fontsize=fontsize+2)\n",
      "\n",
      "if keyword == 'carnatic_music':\n",
      "    xticks(index-1.5*bar_width, [i[9:] for i in groundtruth.keys()])\n",
      "else:\n",
      "    xticks(index-1.5*bar_width, [i[11:] for i in groundtruth.keys()])\n",
      "legend(prop={'size': fontsize}, loc='upper center', \n",
      "       bbox_to_anchor=(0.5, 1.18), fancybox=True)\n",
      "\n",
      "xticks(fontsize=fontsize, rotation=18)\n",
      "yticks(fontsize=fontsize)\n"
     ],
     "language": "python",
     "metadata": {},
     "outputs": [
      {
       "metadata": {},
       "output_type": "pyout",
       "prompt_number": 259,
       "text": [
        "(array([   0.,   50.,  100.,  150.,  200.,  250.]),\n",
        " <a list of 6 Text yticklabel objects>)"
       ]
      }
     ],
     "prompt_number": 259
    },
    {
     "cell_type": "code",
     "collapsed": false,
     "input": [
      "ylim(0, 245)"
     ],
     "language": "python",
     "metadata": {},
     "outputs": [
      {
       "metadata": {},
       "output_type": "pyout",
       "prompt_number": 260,
       "text": [
        "(0, 245)"
       ]
      }
     ],
     "prompt_number": 260
    },
    {
     "cell_type": "code",
     "collapsed": false,
     "input": [
      "fname = home+'/workspace/nerpari/data/results/qualitative/semantic-relation-extraction/'+keyword+'-relcount'\n",
      "savefig(fname+'.pdf', dpi=200, facecolor='w', edgecolor='w', orientation='landscape', \n",
      "        papertype=None, format=None, transparent=False, bbox_inches='tight', pad_inches=0.1)\n",
      "savefig(fname+'.png', dpi=200, facecolor='w', edgecolor='w', orientation='landscape', \n",
      "        papertype=None, format=None, transparent=False, bbox_inches='tight', pad_inches=0.1)"
     ],
     "language": "python",
     "metadata": {},
     "outputs": [],
     "prompt_number": 261
    },
    {
     "cell_type": "code",
     "collapsed": false,
     "input": [
      "close('all')"
     ],
     "language": "python",
     "metadata": {},
     "outputs": [],
     "prompt_number": 262
    }
   ],
   "metadata": {}
  }
 ]
}